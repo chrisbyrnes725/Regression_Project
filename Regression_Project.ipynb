{
 "cells": [
  {
   "cell_type": "code",
   "execution_count": 283,
   "id": "naughty-creation",
   "metadata": {},
   "outputs": [
    {
     "name": "stdout",
     "output_type": "stream",
     "text": [
      "Using matplotlib backend: MacOSX\n",
      "Populating the interactive namespace from numpy and matplotlib\n"
     ]
    },
    {
     "name": "stderr",
     "output_type": "stream",
     "text": [
      "/Users/chrisbyrnes/opt/anaconda3/envs/metis/lib/python3.8/site-packages/IPython/core/magics/pylab.py:159: UserWarning: pylab import has clobbered these variables: ['poly', 'std']\n",
      "`%matplotlib` prevents importing * from pylab and numpy\n",
      "  warn(\"pylab import has clobbered these variables: %s\"  % clobbered +\n"
     ]
    }
   ],
   "source": [
    "import pandas as pd\n",
    "import numpy as np\n",
    "\n",
    "import statsmodels.api as sm\n",
    "import statsmodels.formula.api as smf\n",
    "import patsy\n",
    "\n",
    "import seaborn as sns\n",
    "import matplotlib.pyplot as plt\n",
    "from sklearn.linear_model import LinearRegression, Lasso, LassoCV, Ridge, RidgeCV\n",
    "from sklearn.model_selection import train_test_split, cross_val_score\n",
    "from sklearn.preprocessing import StandardScaler, PolynomialFeatures\n",
    "from sklearn.metrics import r2_score\n",
    "from sklearn.pipeline import Pipeline, make_pipeline\n",
    "%matplotlib \n",
    "%pylab inline\n"
   ]
  },
  {
   "cell_type": "code",
   "execution_count": 284,
   "id": "durable-library",
   "metadata": {},
   "outputs": [
    {
     "name": "stdout",
     "output_type": "stream",
     "text": [
      "<class 'pandas.core.frame.DataFrame'>\n",
      "RangeIndex: 1870 entries, 0 to 1869\n",
      "Data columns (total 24 columns):\n",
      " #   Column          Non-Null Count  Dtype  \n",
      "---  ------          --------------  -----  \n",
      " 0   Unnamed: 0      1870 non-null   int64  \n",
      " 1   RK              1870 non-null   int64  \n",
      " 2   PLAYER          1870 non-null   object \n",
      " 3   AGE             1870 non-null   int64  \n",
      " 4   EVENTS          1870 non-null   int64  \n",
      " 5   ROUNDS          1870 non-null   int64  \n",
      " 6   CUTS MADE       1870 non-null   int64  \n",
      " 7   TOP 10          1870 non-null   int64  \n",
      " 8   WINS            1870 non-null   int64  \n",
      " 9   CUP POINTS      1870 non-null   object \n",
      " 10  EARNINGS        1870 non-null   float64\n",
      " 11  YEAR            1870 non-null   int64  \n",
      " 12  YDS/DRIVE       1870 non-null   float64\n",
      " 13  DRIVING ACC.    1870 non-null   float64\n",
      " 14  DRVE TOTAL      1870 non-null   int64  \n",
      " 15  GREENS IN REG.  1870 non-null   float64\n",
      " 16  PUTT AVG.       1870 non-null   float64\n",
      " 17  SAVE PCT.       1870 non-null   float64\n",
      " 18  EAGLES          1351 non-null   float64\n",
      " 19  BIRDIES         1351 non-null   float64\n",
      " 20  PARS            1351 non-null   float64\n",
      " 21  BOGEYS          1351 non-null   float64\n",
      " 22  BIRDIES/RD      1351 non-null   float64\n",
      " 23  HOLES/EAGLE     1351 non-null   float64\n",
      "dtypes: float64(12), int64(10), object(2)\n",
      "memory usage: 350.8+ KB\n"
     ]
    }
   ],
   "source": [
    "df_golf=pd.read_csv('/Users/chrisbyrnes/Metis/NBM_Regression_Student/df_final.csv')\n",
    "df_golf.info()"
   ]
  },
  {
   "cell_type": "code",
   "execution_count": 285,
   "id": "familiar-sheffield",
   "metadata": {},
   "outputs": [],
   "source": [
    "df_golf.drop(columns=[\"Unnamed: 0\"],inplace=True)"
   ]
  },
  {
   "cell_type": "code",
   "execution_count": 286,
   "id": "organic-assembly",
   "metadata": {},
   "outputs": [
    {
     "name": "stderr",
     "output_type": "stream",
     "text": [
      "<ipython-input-286-a48fc9e8b83a>:2: FutureWarning: The default value of regex will change from True to False in a future version. In addition, single character regular expressions will*not* be treated as literal strings when regex=True.\n",
      "  df_golf.columns = df_golf.columns.str.replace(\".\",\"\")\n"
     ]
    },
    {
     "data": {
      "text/plain": [
       "Index(['RK', 'PLAYER', 'AGE', 'EVENTS', 'ROUNDS', 'CUTS_MADE', 'TOP_10',\n",
       "       'WINS', 'CUP_POINTS', 'EARNINGS', 'YEAR', 'YDS_DRIVE', 'DRIVING_ACC',\n",
       "       'DRVE_TOTAL', 'GREENS_IN_REG', 'PUTT_AVG', 'SAVE_PCT', 'EAGLES',\n",
       "       'BIRDIES', 'PARS', 'BOGEYS', 'BIRDIES_RD', 'HOLES_EAGLE'],\n",
       "      dtype='object')"
      ]
     },
     "execution_count": 286,
     "metadata": {},
     "output_type": "execute_result"
    }
   ],
   "source": [
    "df_golf.columns = df_golf.columns.str.replace(\" \", \"_\")\n",
    "df_golf.columns = df_golf.columns.str.replace(\".\",\"\")\n",
    "df_golf.columns = df_golf.columns.str.replace(\"/\",\"_\")\n",
    "df_golf.columns"
   ]
  },
  {
   "cell_type": "code",
   "execution_count": 287,
   "id": "bright-money",
   "metadata": {},
   "outputs": [
    {
     "data": {
      "text/html": [
       "<div>\n",
       "<style scoped>\n",
       "    .dataframe tbody tr th:only-of-type {\n",
       "        vertical-align: middle;\n",
       "    }\n",
       "\n",
       "    .dataframe tbody tr th {\n",
       "        vertical-align: top;\n",
       "    }\n",
       "\n",
       "    .dataframe thead th {\n",
       "        text-align: right;\n",
       "    }\n",
       "</style>\n",
       "<table border=\"1\" class=\"dataframe\">\n",
       "  <thead>\n",
       "    <tr style=\"text-align: right;\">\n",
       "      <th></th>\n",
       "      <th>RK</th>\n",
       "      <th>AGE</th>\n",
       "      <th>EVENTS</th>\n",
       "      <th>ROUNDS</th>\n",
       "      <th>CUTS_MADE</th>\n",
       "      <th>TOP_10</th>\n",
       "      <th>WINS</th>\n",
       "      <th>EARNINGS</th>\n",
       "      <th>YEAR</th>\n",
       "      <th>YDS_DRIVE</th>\n",
       "      <th>...</th>\n",
       "      <th>DRVE_TOTAL</th>\n",
       "      <th>GREENS_IN_REG</th>\n",
       "      <th>PUTT_AVG</th>\n",
       "      <th>SAVE_PCT</th>\n",
       "      <th>EAGLES</th>\n",
       "      <th>BIRDIES</th>\n",
       "      <th>PARS</th>\n",
       "      <th>BOGEYS</th>\n",
       "      <th>BIRDIES_RD</th>\n",
       "      <th>HOLES_EAGLE</th>\n",
       "    </tr>\n",
       "  </thead>\n",
       "  <tbody>\n",
       "    <tr>\n",
       "      <th>RK</th>\n",
       "      <td>1.000000</td>\n",
       "      <td>0.192538</td>\n",
       "      <td>-0.181261</td>\n",
       "      <td>-0.428593</td>\n",
       "      <td>-0.699179</td>\n",
       "      <td>-0.799244</td>\n",
       "      <td>-0.495344</td>\n",
       "      <td>-0.805591</td>\n",
       "      <td>-0.031091</td>\n",
       "      <td>-0.271535</td>\n",
       "      <td>...</td>\n",
       "      <td>0.214506</td>\n",
       "      <td>-0.376784</td>\n",
       "      <td>0.458830</td>\n",
       "      <td>-0.250580</td>\n",
       "      <td>-0.359653</td>\n",
       "      <td>-0.565291</td>\n",
       "      <td>-0.396406</td>\n",
       "      <td>-0.220282</td>\n",
       "      <td>-0.541590</td>\n",
       "      <td>0.142078</td>\n",
       "    </tr>\n",
       "    <tr>\n",
       "      <th>AGE</th>\n",
       "      <td>0.192538</td>\n",
       "      <td>1.000000</td>\n",
       "      <td>-0.000988</td>\n",
       "      <td>-0.092459</td>\n",
       "      <td>-0.128541</td>\n",
       "      <td>-0.145381</td>\n",
       "      <td>-0.119263</td>\n",
       "      <td>-0.194250</td>\n",
       "      <td>-0.516707</td>\n",
       "      <td>-0.436630</td>\n",
       "      <td>...</td>\n",
       "      <td>0.417972</td>\n",
       "      <td>-0.220230</td>\n",
       "      <td>0.257840</td>\n",
       "      <td>-0.040928</td>\n",
       "      <td>-0.103135</td>\n",
       "      <td>-0.197928</td>\n",
       "      <td>-0.050946</td>\n",
       "      <td>-0.017644</td>\n",
       "      <td>-0.345442</td>\n",
       "      <td>-0.011652</td>\n",
       "    </tr>\n",
       "    <tr>\n",
       "      <th>EVENTS</th>\n",
       "      <td>-0.181261</td>\n",
       "      <td>-0.000988</td>\n",
       "      <td>1.000000</td>\n",
       "      <td>0.737377</td>\n",
       "      <td>0.478128</td>\n",
       "      <td>0.142777</td>\n",
       "      <td>0.009070</td>\n",
       "      <td>0.066403</td>\n",
       "      <td>-0.297228</td>\n",
       "      <td>-0.142789</td>\n",
       "      <td>...</td>\n",
       "      <td>0.042324</td>\n",
       "      <td>-0.069678</td>\n",
       "      <td>0.002287</td>\n",
       "      <td>0.002982</td>\n",
       "      <td>0.353392</td>\n",
       "      <td>0.631740</td>\n",
       "      <td>0.715387</td>\n",
       "      <td>0.719463</td>\n",
       "      <td>-0.058069</td>\n",
       "      <td>-0.072184</td>\n",
       "    </tr>\n",
       "    <tr>\n",
       "      <th>ROUNDS</th>\n",
       "      <td>-0.428593</td>\n",
       "      <td>-0.092459</td>\n",
       "      <td>0.737377</td>\n",
       "      <td>1.000000</td>\n",
       "      <td>0.842160</td>\n",
       "      <td>0.321698</td>\n",
       "      <td>0.104465</td>\n",
       "      <td>0.268517</td>\n",
       "      <td>-0.214350</td>\n",
       "      <td>-0.040971</td>\n",
       "      <td>...</td>\n",
       "      <td>0.008534</td>\n",
       "      <td>0.130504</td>\n",
       "      <td>-0.159342</td>\n",
       "      <td>0.089268</td>\n",
       "      <td>0.527002</td>\n",
       "      <td>0.938034</td>\n",
       "      <td>0.987142</td>\n",
       "      <td>0.886495</td>\n",
       "      <td>0.126629</td>\n",
       "      <td>-0.117644</td>\n",
       "    </tr>\n",
       "    <tr>\n",
       "      <th>CUTS_MADE</th>\n",
       "      <td>-0.699179</td>\n",
       "      <td>-0.128541</td>\n",
       "      <td>0.478128</td>\n",
       "      <td>0.842160</td>\n",
       "      <td>1.000000</td>\n",
       "      <td>0.569312</td>\n",
       "      <td>0.252291</td>\n",
       "      <td>0.545530</td>\n",
       "      <td>-0.088916</td>\n",
       "      <td>0.115164</td>\n",
       "      <td>...</td>\n",
       "      <td>-0.133542</td>\n",
       "      <td>0.323305</td>\n",
       "      <td>-0.342375</td>\n",
       "      <td>0.214875</td>\n",
       "      <td>0.507101</td>\n",
       "      <td>0.887111</td>\n",
       "      <td>0.828352</td>\n",
       "      <td>0.635478</td>\n",
       "      <td>0.377377</td>\n",
       "      <td>-0.121853</td>\n",
       "    </tr>\n",
       "    <tr>\n",
       "      <th>TOP_10</th>\n",
       "      <td>-0.799244</td>\n",
       "      <td>-0.145381</td>\n",
       "      <td>0.142777</td>\n",
       "      <td>0.321698</td>\n",
       "      <td>0.569312</td>\n",
       "      <td>1.000000</td>\n",
       "      <td>0.527339</td>\n",
       "      <td>0.869958</td>\n",
       "      <td>-0.032087</td>\n",
       "      <td>0.245739</td>\n",
       "      <td>...</td>\n",
       "      <td>-0.182713</td>\n",
       "      <td>0.305638</td>\n",
       "      <td>-0.449513</td>\n",
       "      <td>0.245307</td>\n",
       "      <td>0.351562</td>\n",
       "      <td>0.495568</td>\n",
       "      <td>0.302569</td>\n",
       "      <td>0.108060</td>\n",
       "      <td>0.557419</td>\n",
       "      <td>-0.165531</td>\n",
       "    </tr>\n",
       "    <tr>\n",
       "      <th>WINS</th>\n",
       "      <td>-0.495344</td>\n",
       "      <td>-0.119263</td>\n",
       "      <td>0.009070</td>\n",
       "      <td>0.104465</td>\n",
       "      <td>0.252291</td>\n",
       "      <td>0.527339</td>\n",
       "      <td>1.000000</td>\n",
       "      <td>0.768369</td>\n",
       "      <td>-0.001487</td>\n",
       "      <td>0.201208</td>\n",
       "      <td>...</td>\n",
       "      <td>-0.122442</td>\n",
       "      <td>0.145435</td>\n",
       "      <td>-0.282981</td>\n",
       "      <td>0.120508</td>\n",
       "      <td>0.247885</td>\n",
       "      <td>0.225474</td>\n",
       "      <td>0.081057</td>\n",
       "      <td>0.002605</td>\n",
       "      <td>0.360187</td>\n",
       "      <td>-0.121408</td>\n",
       "    </tr>\n",
       "    <tr>\n",
       "      <th>EARNINGS</th>\n",
       "      <td>-0.805591</td>\n",
       "      <td>-0.194250</td>\n",
       "      <td>0.066403</td>\n",
       "      <td>0.268517</td>\n",
       "      <td>0.545530</td>\n",
       "      <td>0.869958</td>\n",
       "      <td>0.768369</td>\n",
       "      <td>1.000000</td>\n",
       "      <td>0.067316</td>\n",
       "      <td>0.307370</td>\n",
       "      <td>...</td>\n",
       "      <td>-0.237300</td>\n",
       "      <td>0.332010</td>\n",
       "      <td>-0.455278</td>\n",
       "      <td>0.251056</td>\n",
       "      <td>0.347084</td>\n",
       "      <td>0.441703</td>\n",
       "      <td>0.226466</td>\n",
       "      <td>0.048084</td>\n",
       "      <td>0.578729</td>\n",
       "      <td>-0.160081</td>\n",
       "    </tr>\n",
       "    <tr>\n",
       "      <th>YEAR</th>\n",
       "      <td>-0.031091</td>\n",
       "      <td>-0.516707</td>\n",
       "      <td>-0.297228</td>\n",
       "      <td>-0.214350</td>\n",
       "      <td>-0.088916</td>\n",
       "      <td>-0.032087</td>\n",
       "      <td>-0.001487</td>\n",
       "      <td>0.067316</td>\n",
       "      <td>1.000000</td>\n",
       "      <td>0.314442</td>\n",
       "      <td>...</td>\n",
       "      <td>-0.473592</td>\n",
       "      <td>0.349756</td>\n",
       "      <td>-0.271800</td>\n",
       "      <td>0.078076</td>\n",
       "      <td>-0.181261</td>\n",
       "      <td>-0.126137</td>\n",
       "      <td>-0.271915</td>\n",
       "      <td>-0.366839</td>\n",
       "      <td>0.307628</td>\n",
       "      <td>0.182285</td>\n",
       "    </tr>\n",
       "    <tr>\n",
       "      <th>YDS_DRIVE</th>\n",
       "      <td>-0.271535</td>\n",
       "      <td>-0.436630</td>\n",
       "      <td>-0.142789</td>\n",
       "      <td>-0.040971</td>\n",
       "      <td>0.115164</td>\n",
       "      <td>0.245739</td>\n",
       "      <td>0.201208</td>\n",
       "      <td>0.307370</td>\n",
       "      <td>0.314442</td>\n",
       "      <td>1.000000</td>\n",
       "      <td>...</td>\n",
       "      <td>-0.673701</td>\n",
       "      <td>0.313684</td>\n",
       "      <td>-0.100027</td>\n",
       "      <td>-0.129040</td>\n",
       "      <td>0.250906</td>\n",
       "      <td>0.134880</td>\n",
       "      <td>-0.099731</td>\n",
       "      <td>-0.066721</td>\n",
       "      <td>0.476439</td>\n",
       "      <td>-0.176784</td>\n",
       "    </tr>\n",
       "    <tr>\n",
       "      <th>DRIVING_ACC</th>\n",
       "      <td>-0.081857</td>\n",
       "      <td>0.226812</td>\n",
       "      <td>0.074948</td>\n",
       "      <td>0.128962</td>\n",
       "      <td>0.160208</td>\n",
       "      <td>0.062247</td>\n",
       "      <td>-0.022389</td>\n",
       "      <td>0.034180</td>\n",
       "      <td>-0.072579</td>\n",
       "      <td>-0.537025</td>\n",
       "      <td>...</td>\n",
       "      <td>0.289646</td>\n",
       "      <td>0.258356</td>\n",
       "      <td>0.083626</td>\n",
       "      <td>0.003069</td>\n",
       "      <td>-0.088517</td>\n",
       "      <td>0.087332</td>\n",
       "      <td>0.159211</td>\n",
       "      <td>-0.019956</td>\n",
       "      <td>-0.029089</td>\n",
       "      <td>0.128523</td>\n",
       "    </tr>\n",
       "    <tr>\n",
       "      <th>DRVE_TOTAL</th>\n",
       "      <td>0.214506</td>\n",
       "      <td>0.417972</td>\n",
       "      <td>0.042324</td>\n",
       "      <td>0.008534</td>\n",
       "      <td>-0.133542</td>\n",
       "      <td>-0.182713</td>\n",
       "      <td>-0.122442</td>\n",
       "      <td>-0.237300</td>\n",
       "      <td>-0.473592</td>\n",
       "      <td>-0.673701</td>\n",
       "      <td>...</td>\n",
       "      <td>1.000000</td>\n",
       "      <td>-0.349034</td>\n",
       "      <td>0.095023</td>\n",
       "      <td>0.029449</td>\n",
       "      <td>-0.113386</td>\n",
       "      <td>-0.104420</td>\n",
       "      <td>0.043395</td>\n",
       "      <td>0.022294</td>\n",
       "      <td>-0.274564</td>\n",
       "      <td>0.040505</td>\n",
       "    </tr>\n",
       "    <tr>\n",
       "      <th>GREENS_IN_REG</th>\n",
       "      <td>-0.376784</td>\n",
       "      <td>-0.220230</td>\n",
       "      <td>-0.069678</td>\n",
       "      <td>0.130504</td>\n",
       "      <td>0.323305</td>\n",
       "      <td>0.305638</td>\n",
       "      <td>0.145435</td>\n",
       "      <td>0.332010</td>\n",
       "      <td>0.349756</td>\n",
       "      <td>0.313684</td>\n",
       "      <td>...</td>\n",
       "      <td>-0.349034</td>\n",
       "      <td>1.000000</td>\n",
       "      <td>-0.030162</td>\n",
       "      <td>-0.014629</td>\n",
       "      <td>0.093623</td>\n",
       "      <td>0.228751</td>\n",
       "      <td>0.101537</td>\n",
       "      <td>-0.159420</td>\n",
       "      <td>0.440824</td>\n",
       "      <td>0.009783</td>\n",
       "    </tr>\n",
       "    <tr>\n",
       "      <th>PUTT_AVG</th>\n",
       "      <td>0.458830</td>\n",
       "      <td>0.257840</td>\n",
       "      <td>0.002287</td>\n",
       "      <td>-0.159342</td>\n",
       "      <td>-0.342375</td>\n",
       "      <td>-0.449513</td>\n",
       "      <td>-0.282981</td>\n",
       "      <td>-0.455278</td>\n",
       "      <td>-0.271800</td>\n",
       "      <td>-0.100027</td>\n",
       "      <td>...</td>\n",
       "      <td>0.095023</td>\n",
       "      <td>-0.030162</td>\n",
       "      <td>1.000000</td>\n",
       "      <td>-0.331852</td>\n",
       "      <td>-0.160868</td>\n",
       "      <td>-0.351672</td>\n",
       "      <td>-0.077722</td>\n",
       "      <td>0.062798</td>\n",
       "      <td>-0.702015</td>\n",
       "      <td>0.031375</td>\n",
       "    </tr>\n",
       "    <tr>\n",
       "      <th>SAVE_PCT</th>\n",
       "      <td>-0.250580</td>\n",
       "      <td>-0.040928</td>\n",
       "      <td>0.002982</td>\n",
       "      <td>0.089268</td>\n",
       "      <td>0.214875</td>\n",
       "      <td>0.245307</td>\n",
       "      <td>0.120508</td>\n",
       "      <td>0.251056</td>\n",
       "      <td>0.078076</td>\n",
       "      <td>-0.129040</td>\n",
       "      <td>...</td>\n",
       "      <td>0.029449</td>\n",
       "      <td>-0.014629</td>\n",
       "      <td>-0.331852</td>\n",
       "      <td>1.000000</td>\n",
       "      <td>0.002574</td>\n",
       "      <td>0.112653</td>\n",
       "      <td>0.084854</td>\n",
       "      <td>-0.103915</td>\n",
       "      <td>0.158510</td>\n",
       "      <td>0.012616</td>\n",
       "    </tr>\n",
       "    <tr>\n",
       "      <th>EAGLES</th>\n",
       "      <td>-0.359653</td>\n",
       "      <td>-0.103135</td>\n",
       "      <td>0.353392</td>\n",
       "      <td>0.527002</td>\n",
       "      <td>0.507101</td>\n",
       "      <td>0.351562</td>\n",
       "      <td>0.247885</td>\n",
       "      <td>0.347084</td>\n",
       "      <td>-0.181261</td>\n",
       "      <td>0.250906</td>\n",
       "      <td>...</td>\n",
       "      <td>-0.113386</td>\n",
       "      <td>0.093623</td>\n",
       "      <td>-0.160868</td>\n",
       "      <td>0.002574</td>\n",
       "      <td>1.000000</td>\n",
       "      <td>0.533778</td>\n",
       "      <td>0.494016</td>\n",
       "      <td>0.460643</td>\n",
       "      <td>0.175182</td>\n",
       "      <td>-0.652241</td>\n",
       "    </tr>\n",
       "    <tr>\n",
       "      <th>BIRDIES</th>\n",
       "      <td>-0.565291</td>\n",
       "      <td>-0.197928</td>\n",
       "      <td>0.631740</td>\n",
       "      <td>0.938034</td>\n",
       "      <td>0.887111</td>\n",
       "      <td>0.495568</td>\n",
       "      <td>0.225474</td>\n",
       "      <td>0.441703</td>\n",
       "      <td>-0.126137</td>\n",
       "      <td>0.134880</td>\n",
       "      <td>...</td>\n",
       "      <td>-0.104420</td>\n",
       "      <td>0.228751</td>\n",
       "      <td>-0.351672</td>\n",
       "      <td>0.112653</td>\n",
       "      <td>0.533778</td>\n",
       "      <td>1.000000</td>\n",
       "      <td>0.900142</td>\n",
       "      <td>0.760033</td>\n",
       "      <td>0.455121</td>\n",
       "      <td>-0.113974</td>\n",
       "    </tr>\n",
       "    <tr>\n",
       "      <th>PARS</th>\n",
       "      <td>-0.396406</td>\n",
       "      <td>-0.050946</td>\n",
       "      <td>0.715387</td>\n",
       "      <td>0.987142</td>\n",
       "      <td>0.828352</td>\n",
       "      <td>0.302569</td>\n",
       "      <td>0.081057</td>\n",
       "      <td>0.226466</td>\n",
       "      <td>-0.271915</td>\n",
       "      <td>-0.099731</td>\n",
       "      <td>...</td>\n",
       "      <td>0.043395</td>\n",
       "      <td>0.101537</td>\n",
       "      <td>-0.077722</td>\n",
       "      <td>0.084854</td>\n",
       "      <td>0.494016</td>\n",
       "      <td>0.900142</td>\n",
       "      <td>1.000000</td>\n",
       "      <td>0.845172</td>\n",
       "      <td>0.054911</td>\n",
       "      <td>-0.099451</td>\n",
       "    </tr>\n",
       "    <tr>\n",
       "      <th>BOGEYS</th>\n",
       "      <td>-0.220282</td>\n",
       "      <td>-0.017644</td>\n",
       "      <td>0.719463</td>\n",
       "      <td>0.886495</td>\n",
       "      <td>0.635478</td>\n",
       "      <td>0.108060</td>\n",
       "      <td>0.002605</td>\n",
       "      <td>0.048084</td>\n",
       "      <td>-0.366839</td>\n",
       "      <td>-0.066721</td>\n",
       "      <td>...</td>\n",
       "      <td>0.022294</td>\n",
       "      <td>-0.159420</td>\n",
       "      <td>0.062798</td>\n",
       "      <td>-0.103915</td>\n",
       "      <td>0.460643</td>\n",
       "      <td>0.760033</td>\n",
       "      <td>0.845172</td>\n",
       "      <td>1.000000</td>\n",
       "      <td>-0.093487</td>\n",
       "      <td>-0.122313</td>\n",
       "    </tr>\n",
       "    <tr>\n",
       "      <th>BIRDIES_RD</th>\n",
       "      <td>-0.541590</td>\n",
       "      <td>-0.345442</td>\n",
       "      <td>-0.058069</td>\n",
       "      <td>0.126629</td>\n",
       "      <td>0.377377</td>\n",
       "      <td>0.557419</td>\n",
       "      <td>0.360187</td>\n",
       "      <td>0.578729</td>\n",
       "      <td>0.307628</td>\n",
       "      <td>0.476439</td>\n",
       "      <td>...</td>\n",
       "      <td>-0.274564</td>\n",
       "      <td>0.440824</td>\n",
       "      <td>-0.702015</td>\n",
       "      <td>0.158510</td>\n",
       "      <td>0.175182</td>\n",
       "      <td>0.455121</td>\n",
       "      <td>0.054911</td>\n",
       "      <td>-0.093487</td>\n",
       "      <td>1.000000</td>\n",
       "      <td>-0.025657</td>\n",
       "    </tr>\n",
       "    <tr>\n",
       "      <th>HOLES_EAGLE</th>\n",
       "      <td>0.142078</td>\n",
       "      <td>-0.011652</td>\n",
       "      <td>-0.072184</td>\n",
       "      <td>-0.117644</td>\n",
       "      <td>-0.121853</td>\n",
       "      <td>-0.165531</td>\n",
       "      <td>-0.121408</td>\n",
       "      <td>-0.160081</td>\n",
       "      <td>0.182285</td>\n",
       "      <td>-0.176784</td>\n",
       "      <td>...</td>\n",
       "      <td>0.040505</td>\n",
       "      <td>0.009783</td>\n",
       "      <td>0.031375</td>\n",
       "      <td>0.012616</td>\n",
       "      <td>-0.652241</td>\n",
       "      <td>-0.113974</td>\n",
       "      <td>-0.099451</td>\n",
       "      <td>-0.122313</td>\n",
       "      <td>-0.025657</td>\n",
       "      <td>1.000000</td>\n",
       "    </tr>\n",
       "  </tbody>\n",
       "</table>\n",
       "<p>21 rows × 21 columns</p>\n",
       "</div>"
      ],
      "text/plain": [
       "                     RK       AGE    EVENTS    ROUNDS  CUTS_MADE    TOP_10  \\\n",
       "RK             1.000000  0.192538 -0.181261 -0.428593  -0.699179 -0.799244   \n",
       "AGE            0.192538  1.000000 -0.000988 -0.092459  -0.128541 -0.145381   \n",
       "EVENTS        -0.181261 -0.000988  1.000000  0.737377   0.478128  0.142777   \n",
       "ROUNDS        -0.428593 -0.092459  0.737377  1.000000   0.842160  0.321698   \n",
       "CUTS_MADE     -0.699179 -0.128541  0.478128  0.842160   1.000000  0.569312   \n",
       "TOP_10        -0.799244 -0.145381  0.142777  0.321698   0.569312  1.000000   \n",
       "WINS          -0.495344 -0.119263  0.009070  0.104465   0.252291  0.527339   \n",
       "EARNINGS      -0.805591 -0.194250  0.066403  0.268517   0.545530  0.869958   \n",
       "YEAR          -0.031091 -0.516707 -0.297228 -0.214350  -0.088916 -0.032087   \n",
       "YDS_DRIVE     -0.271535 -0.436630 -0.142789 -0.040971   0.115164  0.245739   \n",
       "DRIVING_ACC   -0.081857  0.226812  0.074948  0.128962   0.160208  0.062247   \n",
       "DRVE_TOTAL     0.214506  0.417972  0.042324  0.008534  -0.133542 -0.182713   \n",
       "GREENS_IN_REG -0.376784 -0.220230 -0.069678  0.130504   0.323305  0.305638   \n",
       "PUTT_AVG       0.458830  0.257840  0.002287 -0.159342  -0.342375 -0.449513   \n",
       "SAVE_PCT      -0.250580 -0.040928  0.002982  0.089268   0.214875  0.245307   \n",
       "EAGLES        -0.359653 -0.103135  0.353392  0.527002   0.507101  0.351562   \n",
       "BIRDIES       -0.565291 -0.197928  0.631740  0.938034   0.887111  0.495568   \n",
       "PARS          -0.396406 -0.050946  0.715387  0.987142   0.828352  0.302569   \n",
       "BOGEYS        -0.220282 -0.017644  0.719463  0.886495   0.635478  0.108060   \n",
       "BIRDIES_RD    -0.541590 -0.345442 -0.058069  0.126629   0.377377  0.557419   \n",
       "HOLES_EAGLE    0.142078 -0.011652 -0.072184 -0.117644  -0.121853 -0.165531   \n",
       "\n",
       "                   WINS  EARNINGS      YEAR  YDS_DRIVE  ...  DRVE_TOTAL  \\\n",
       "RK            -0.495344 -0.805591 -0.031091  -0.271535  ...    0.214506   \n",
       "AGE           -0.119263 -0.194250 -0.516707  -0.436630  ...    0.417972   \n",
       "EVENTS         0.009070  0.066403 -0.297228  -0.142789  ...    0.042324   \n",
       "ROUNDS         0.104465  0.268517 -0.214350  -0.040971  ...    0.008534   \n",
       "CUTS_MADE      0.252291  0.545530 -0.088916   0.115164  ...   -0.133542   \n",
       "TOP_10         0.527339  0.869958 -0.032087   0.245739  ...   -0.182713   \n",
       "WINS           1.000000  0.768369 -0.001487   0.201208  ...   -0.122442   \n",
       "EARNINGS       0.768369  1.000000  0.067316   0.307370  ...   -0.237300   \n",
       "YEAR          -0.001487  0.067316  1.000000   0.314442  ...   -0.473592   \n",
       "YDS_DRIVE      0.201208  0.307370  0.314442   1.000000  ...   -0.673701   \n",
       "DRIVING_ACC   -0.022389  0.034180 -0.072579  -0.537025  ...    0.289646   \n",
       "DRVE_TOTAL    -0.122442 -0.237300 -0.473592  -0.673701  ...    1.000000   \n",
       "GREENS_IN_REG  0.145435  0.332010  0.349756   0.313684  ...   -0.349034   \n",
       "PUTT_AVG      -0.282981 -0.455278 -0.271800  -0.100027  ...    0.095023   \n",
       "SAVE_PCT       0.120508  0.251056  0.078076  -0.129040  ...    0.029449   \n",
       "EAGLES         0.247885  0.347084 -0.181261   0.250906  ...   -0.113386   \n",
       "BIRDIES        0.225474  0.441703 -0.126137   0.134880  ...   -0.104420   \n",
       "PARS           0.081057  0.226466 -0.271915  -0.099731  ...    0.043395   \n",
       "BOGEYS         0.002605  0.048084 -0.366839  -0.066721  ...    0.022294   \n",
       "BIRDIES_RD     0.360187  0.578729  0.307628   0.476439  ...   -0.274564   \n",
       "HOLES_EAGLE   -0.121408 -0.160081  0.182285  -0.176784  ...    0.040505   \n",
       "\n",
       "               GREENS_IN_REG  PUTT_AVG  SAVE_PCT    EAGLES   BIRDIES  \\\n",
       "RK                 -0.376784  0.458830 -0.250580 -0.359653 -0.565291   \n",
       "AGE                -0.220230  0.257840 -0.040928 -0.103135 -0.197928   \n",
       "EVENTS             -0.069678  0.002287  0.002982  0.353392  0.631740   \n",
       "ROUNDS              0.130504 -0.159342  0.089268  0.527002  0.938034   \n",
       "CUTS_MADE           0.323305 -0.342375  0.214875  0.507101  0.887111   \n",
       "TOP_10              0.305638 -0.449513  0.245307  0.351562  0.495568   \n",
       "WINS                0.145435 -0.282981  0.120508  0.247885  0.225474   \n",
       "EARNINGS            0.332010 -0.455278  0.251056  0.347084  0.441703   \n",
       "YEAR                0.349756 -0.271800  0.078076 -0.181261 -0.126137   \n",
       "YDS_DRIVE           0.313684 -0.100027 -0.129040  0.250906  0.134880   \n",
       "DRIVING_ACC         0.258356  0.083626  0.003069 -0.088517  0.087332   \n",
       "DRVE_TOTAL         -0.349034  0.095023  0.029449 -0.113386 -0.104420   \n",
       "GREENS_IN_REG       1.000000 -0.030162 -0.014629  0.093623  0.228751   \n",
       "PUTT_AVG           -0.030162  1.000000 -0.331852 -0.160868 -0.351672   \n",
       "SAVE_PCT           -0.014629 -0.331852  1.000000  0.002574  0.112653   \n",
       "EAGLES              0.093623 -0.160868  0.002574  1.000000  0.533778   \n",
       "BIRDIES             0.228751 -0.351672  0.112653  0.533778  1.000000   \n",
       "PARS                0.101537 -0.077722  0.084854  0.494016  0.900142   \n",
       "BOGEYS             -0.159420  0.062798 -0.103915  0.460643  0.760033   \n",
       "BIRDIES_RD          0.440824 -0.702015  0.158510  0.175182  0.455121   \n",
       "HOLES_EAGLE         0.009783  0.031375  0.012616 -0.652241 -0.113974   \n",
       "\n",
       "                   PARS    BOGEYS  BIRDIES_RD  HOLES_EAGLE  \n",
       "RK            -0.396406 -0.220282   -0.541590     0.142078  \n",
       "AGE           -0.050946 -0.017644   -0.345442    -0.011652  \n",
       "EVENTS         0.715387  0.719463   -0.058069    -0.072184  \n",
       "ROUNDS         0.987142  0.886495    0.126629    -0.117644  \n",
       "CUTS_MADE      0.828352  0.635478    0.377377    -0.121853  \n",
       "TOP_10         0.302569  0.108060    0.557419    -0.165531  \n",
       "WINS           0.081057  0.002605    0.360187    -0.121408  \n",
       "EARNINGS       0.226466  0.048084    0.578729    -0.160081  \n",
       "YEAR          -0.271915 -0.366839    0.307628     0.182285  \n",
       "YDS_DRIVE     -0.099731 -0.066721    0.476439    -0.176784  \n",
       "DRIVING_ACC    0.159211 -0.019956   -0.029089     0.128523  \n",
       "DRVE_TOTAL     0.043395  0.022294   -0.274564     0.040505  \n",
       "GREENS_IN_REG  0.101537 -0.159420    0.440824     0.009783  \n",
       "PUTT_AVG      -0.077722  0.062798   -0.702015     0.031375  \n",
       "SAVE_PCT       0.084854 -0.103915    0.158510     0.012616  \n",
       "EAGLES         0.494016  0.460643    0.175182    -0.652241  \n",
       "BIRDIES        0.900142  0.760033    0.455121    -0.113974  \n",
       "PARS           1.000000  0.845172    0.054911    -0.099451  \n",
       "BOGEYS         0.845172  1.000000   -0.093487    -0.122313  \n",
       "BIRDIES_RD     0.054911 -0.093487    1.000000    -0.025657  \n",
       "HOLES_EAGLE   -0.099451 -0.122313   -0.025657     1.000000  \n",
       "\n",
       "[21 rows x 21 columns]"
      ]
     },
     "execution_count": 287,
     "metadata": {},
     "output_type": "execute_result"
    }
   ],
   "source": [
    "df_golf.corr()\n",
    "#TOP_10, CUTS_MADE, ROUNDS, and EVENTS have strong correlation with each other and EARNINGS. WINS also has \n",
    "#strong correlation with EARNINGS. Would like to see how much EARNINGS can be predicted without using all of these\n",
    "#highly correlated data fields. Will need to use one of them and it will be CUTS_MADE."
   ]
  },
  {
   "cell_type": "code",
   "execution_count": 288,
   "id": "legislative-finish",
   "metadata": {},
   "outputs": [
    {
     "data": {
      "text/html": [
       "<table class=\"simpletable\">\n",
       "<caption>OLS Regression Results</caption>\n",
       "<tr>\n",
       "  <th>Dep. Variable:</th>        <td>EARNINGS</td>     <th>  R-squared:         </th> <td>   0.486</td> \n",
       "</tr>\n",
       "<tr>\n",
       "  <th>Model:</th>                   <td>OLS</td>       <th>  Adj. R-squared:    </th> <td>   0.484</td> \n",
       "</tr>\n",
       "<tr>\n",
       "  <th>Method:</th>             <td>Least Squares</td>  <th>  F-statistic:       </th> <td>   219.8</td> \n",
       "</tr>\n",
       "<tr>\n",
       "  <th>Date:</th>             <td>Thu, 15 Apr 2021</td> <th>  Prob (F-statistic):</th> <td>2.37e-262</td>\n",
       "</tr>\n",
       "<tr>\n",
       "  <th>Time:</th>                 <td>17:12:40</td>     <th>  Log-Likelihood:    </th> <td> -28493.</td> \n",
       "</tr>\n",
       "<tr>\n",
       "  <th>No. Observations:</th>      <td>  1870</td>      <th>  AIC:               </th> <td>5.700e+04</td>\n",
       "</tr>\n",
       "<tr>\n",
       "  <th>Df Residuals:</th>          <td>  1861</td>      <th>  BIC:               </th> <td>5.705e+04</td>\n",
       "</tr>\n",
       "<tr>\n",
       "  <th>Df Model:</th>              <td>     8</td>      <th>                     </th>     <td> </td>    \n",
       "</tr>\n",
       "<tr>\n",
       "  <th>Covariance Type:</th>      <td>nonrobust</td>    <th>                     </th>     <td> </td>    \n",
       "</tr>\n",
       "</table>\n",
       "<table class=\"simpletable\">\n",
       "<tr>\n",
       "        <td></td>           <th>coef</th>     <th>std err</th>      <th>t</th>      <th>P>|t|</th>  <th>[0.025</th>    <th>0.975]</th>  \n",
       "</tr>\n",
       "<tr>\n",
       "  <th>Intercept</th>     <td> 1.393e+08</td> <td> 1.95e+07</td> <td>    7.145</td> <td> 0.000</td> <td> 1.01e+08</td> <td> 1.77e+08</td>\n",
       "</tr>\n",
       "<tr>\n",
       "  <th>AGE</th>           <td> -111.9689</td> <td> 3960.863</td> <td>   -0.028</td> <td> 0.977</td> <td>-7880.169</td> <td> 7656.232</td>\n",
       "</tr>\n",
       "<tr>\n",
       "  <th>YEAR</th>          <td>-6.555e+04</td> <td> 9466.744</td> <td>   -6.925</td> <td> 0.000</td> <td>-8.41e+04</td> <td> -4.7e+04</td>\n",
       "</tr>\n",
       "<tr>\n",
       "  <th>CUTS_MADE</th>     <td> 8.569e+04</td> <td> 6453.542</td> <td>   13.278</td> <td> 0.000</td> <td>  7.3e+04</td> <td> 9.83e+04</td>\n",
       "</tr>\n",
       "<tr>\n",
       "  <th>DRIVING_ACC</th>   <td> 4.389e+04</td> <td> 6580.334</td> <td>    6.669</td> <td> 0.000</td> <td>  3.1e+04</td> <td> 5.68e+04</td>\n",
       "</tr>\n",
       "<tr>\n",
       "  <th>YDS_DRIVE</th>     <td> 5.411e+04</td> <td> 3911.469</td> <td>   13.833</td> <td> 0.000</td> <td> 4.64e+04</td> <td> 6.18e+04</td>\n",
       "</tr>\n",
       "<tr>\n",
       "  <th>GREENS_IN_REG</th> <td>     6e+04</td> <td> 9851.677</td> <td>    6.091</td> <td> 0.000</td> <td> 4.07e+04</td> <td> 7.93e+04</td>\n",
       "</tr>\n",
       "<tr>\n",
       "  <th>PUTT_AVG</th>      <td>-1.744e+07</td> <td> 1.06e+06</td> <td>  -16.465</td> <td> 0.000</td> <td>-1.95e+07</td> <td>-1.54e+07</td>\n",
       "</tr>\n",
       "<tr>\n",
       "  <th>SAVE_PCT</th>      <td> 3.132e+04</td> <td> 4059.334</td> <td>    7.716</td> <td> 0.000</td> <td> 2.34e+04</td> <td> 3.93e+04</td>\n",
       "</tr>\n",
       "</table>\n",
       "<table class=\"simpletable\">\n",
       "<tr>\n",
       "  <th>Omnibus:</th>       <td>819.910</td> <th>  Durbin-Watson:     </th> <td>   0.763</td>\n",
       "</tr>\n",
       "<tr>\n",
       "  <th>Prob(Omnibus):</th> <td> 0.000</td>  <th>  Jarque-Bera (JB):  </th> <td>5877.830</td>\n",
       "</tr>\n",
       "<tr>\n",
       "  <th>Skew:</th>          <td> 1.910</td>  <th>  Prob(JB):          </th> <td>    0.00</td>\n",
       "</tr>\n",
       "<tr>\n",
       "  <th>Kurtosis:</th>      <td>10.800</td>  <th>  Cond. No.          </th> <td>1.71e+06</td>\n",
       "</tr>\n",
       "</table><br/><br/>Notes:<br/>[1] Standard Errors assume that the covariance matrix of the errors is correctly specified.<br/>[2] The condition number is large, 1.71e+06. This might indicate that there are<br/>strong multicollinearity or other numerical problems."
      ],
      "text/plain": [
       "<class 'statsmodels.iolib.summary.Summary'>\n",
       "\"\"\"\n",
       "                            OLS Regression Results                            \n",
       "==============================================================================\n",
       "Dep. Variable:               EARNINGS   R-squared:                       0.486\n",
       "Model:                            OLS   Adj. R-squared:                  0.484\n",
       "Method:                 Least Squares   F-statistic:                     219.8\n",
       "Date:                Thu, 15 Apr 2021   Prob (F-statistic):          2.37e-262\n",
       "Time:                        17:12:40   Log-Likelihood:                -28493.\n",
       "No. Observations:                1870   AIC:                         5.700e+04\n",
       "Df Residuals:                    1861   BIC:                         5.705e+04\n",
       "Df Model:                           8                                         \n",
       "Covariance Type:            nonrobust                                         \n",
       "=================================================================================\n",
       "                    coef    std err          t      P>|t|      [0.025      0.975]\n",
       "---------------------------------------------------------------------------------\n",
       "Intercept      1.393e+08   1.95e+07      7.145      0.000    1.01e+08    1.77e+08\n",
       "AGE            -111.9689   3960.863     -0.028      0.977   -7880.169    7656.232\n",
       "YEAR          -6.555e+04   9466.744     -6.925      0.000   -8.41e+04    -4.7e+04\n",
       "CUTS_MADE      8.569e+04   6453.542     13.278      0.000     7.3e+04    9.83e+04\n",
       "DRIVING_ACC    4.389e+04   6580.334      6.669      0.000     3.1e+04    5.68e+04\n",
       "YDS_DRIVE      5.411e+04   3911.469     13.833      0.000    4.64e+04    6.18e+04\n",
       "GREENS_IN_REG      6e+04   9851.677      6.091      0.000    4.07e+04    7.93e+04\n",
       "PUTT_AVG      -1.744e+07   1.06e+06    -16.465      0.000   -1.95e+07   -1.54e+07\n",
       "SAVE_PCT       3.132e+04   4059.334      7.716      0.000    2.34e+04    3.93e+04\n",
       "==============================================================================\n",
       "Omnibus:                      819.910   Durbin-Watson:                   0.763\n",
       "Prob(Omnibus):                  0.000   Jarque-Bera (JB):             5877.830\n",
       "Skew:                           1.910   Prob(JB):                         0.00\n",
       "Kurtosis:                      10.800   Cond. No.                     1.71e+06\n",
       "==============================================================================\n",
       "\n",
       "Notes:\n",
       "[1] Standard Errors assume that the covariance matrix of the errors is correctly specified.\n",
       "[2] The condition number is large, 1.71e+06. This might indicate that there are\n",
       "strong multicollinearity or other numerical problems.\n",
       "\"\"\""
      ]
     },
     "execution_count": 288,
     "metadata": {},
     "output_type": "execute_result"
    }
   ],
   "source": [
    "#STATSMODELS, getting a general sense of results. Age appears to not be a significant predictor of earnings.\n",
    "lm1 = smf.ols('EARNINGS ~ AGE + YEAR + CUTS_MADE + DRIVING_ACC + YDS_DRIVE + GREENS_IN_REG + PUTT_AVG + SAVE_PCT', data=df_golf)\n",
    "fit1 = lm1.fit()\n",
    "fit1.summary()"
   ]
  },
  {
   "cell_type": "code",
   "execution_count": 289,
   "id": "bridal-allen",
   "metadata": {},
   "outputs": [
    {
     "data": {
      "text/plain": [
       "LinearRegression()"
      ]
     },
     "execution_count": 289,
     "metadata": {},
     "output_type": "execute_result"
    }
   ],
   "source": [
    "#SKLEARN broad view, as expected same results\n",
    "X = df_golf[['AGE','YEAR','CUTS_MADE','YDS_DRIVE','DRIVING_ACC', 'GREENS_IN_REG', 'PUTT_AVG', 'SAVE_PCT']]\n",
    "y = df_golf['EARNINGS']\n",
    "\n",
    "lm = LinearRegression() # construct LinearRegression model object\n",
    "lm.fit(X, y) #fit model to our choice of features"
   ]
  },
  {
   "cell_type": "code",
   "execution_count": 290,
   "id": "competitive-front",
   "metadata": {},
   "outputs": [
    {
     "name": "stdout",
     "output_type": "stream",
     "text": [
      "139272524.99016112\n",
      "[-1.11968854e+02 -6.55526464e+04  8.56882363e+04  5.41083529e+04\n",
      "  4.38872238e+04  6.00044021e+04 -1.74359849e+07  3.13214380e+04]\n",
      "0.48583133069453477\n"
     ]
    }
   ],
   "source": [
    "print(lm.intercept_)\n",
    "print(lm.coef_)\n",
    "print(lm.score(X,y))"
   ]
  },
  {
   "cell_type": "code",
   "execution_count": 291,
   "id": "remarkable-lawrence",
   "metadata": {},
   "outputs": [],
   "source": [
    "#generate train, validate, and test data groups\n",
    "X_train, X_val, y_train, y_val = train_test_split(X, y, test_size=0.4, random_state=5)\n",
    "X_val, X_test, y_val, y_test = train_test_split(X_val, y_val, test_size=.5, random_state=5)"
   ]
  },
  {
   "cell_type": "code",
   "execution_count": 292,
   "id": "mysterious-tanzania",
   "metadata": {},
   "outputs": [
    {
     "name": "stdout",
     "output_type": "stream",
     "text": [
      "152195678.53913376\n",
      "[-1.59840401e+03 -7.23805138e+04  7.52066255e+04  6.39098437e+04\n",
      "  5.37059084e+04  5.95945270e+04 -1.88868425e+07  3.49485878e+04]\n",
      "0.49938462902110403\n"
     ]
    }
   ],
   "source": [
    "lr_model = LinearRegression()\n",
    "lr_model.fit(X_train,y_train)\n",
    "print(lr_model.intercept_)\n",
    "print(lr_model.coef_)\n",
    "print(lr_model.score(X_train,y_train))"
   ]
  },
  {
   "cell_type": "code",
   "execution_count": 293,
   "id": "comparable-ratio",
   "metadata": {},
   "outputs": [],
   "source": [
    "#score fit on validation data\n",
    "val_score = lr_model.score(X_val, y_val)"
   ]
  },
  {
   "cell_type": "code",
   "execution_count": 294,
   "id": "operating-participant",
   "metadata": {},
   "outputs": [
    {
     "name": "stdout",
     "output_type": "stream",
     "text": [
      "0.44604972735611215\n"
     ]
    }
   ],
   "source": [
    "print(val_score) # R^2 on train slightly larger than validate"
   ]
  },
  {
   "cell_type": "code",
   "execution_count": 295,
   "id": "adolescent-hartford",
   "metadata": {},
   "outputs": [
    {
     "name": "stdout",
     "output_type": "stream",
     "text": [
      "0.45607139587686785\n"
     ]
    }
   ],
   "source": [
    "test_score = lr_model.score(X_test, y_test)\n",
    "print(test_score)"
   ]
  },
  {
   "cell_type": "code",
   "execution_count": 364,
   "id": "sustainable-membrane",
   "metadata": {},
   "outputs": [
    {
     "data": {
      "image/png": "[encoded data removed]",
      "text/plain": [
       "<Figure size 576x504 with 1 Axes>"
      ]
     },
     "metadata": {},
     "output_type": "display_data"
    }
   ],
   "source": [
    "preds = lr_model.predict(X_test)\n",
    "plt.figure(figsize=(8, 7))\n",
    "sns.set(style=\"darkgrid\")\n",
    "sns.set(font_scale=1.3)\n",
    "plt.title(\"Observed vs.Predicted Earnings\")\n",
    "plt.xlabel('Predicted Earnings')\n",
    "sns.regplot(x=preds,y=y_test)\n",
    "plt.xlim([0, 4500000])\n",
    "plt.ylim([0, 12500000])\n",
    "plt.ylabel('Observed Earnings')\n",
    "sns.despine()\n",
    "plt.savefig(\"observed_vs_predicted_test.png\")"
   ]
  },
  {
   "cell_type": "code",
   "execution_count": 282,
   "id": "alpine-romania",
   "metadata": {},
   "outputs": [
    {
     "data": {
      "image/png": "[encoded data removed]",
      "text/plain": [
       "<Figure size 432x288 with 2 Axes>"
      ]
     },
     "metadata": {},
     "output_type": "display_data"
    },
    {
     "data": {
      "text/plain": [
       "<Figure size 432x288 with 0 Axes>"
      ]
     },
     "metadata": {},
     "output_type": "display_data"
    }
   ],
   "source": [
    "#had run this earlier but need to re-run get visual again for presentation\n",
    "#df_golf.drop([\"RK\",\"EAGLES\",\"BIRDIES\",\"PARS\",\"BOGEYS\",\"BIRDIES_RD\",\"HOLES_EAGLE\"],axis=1,inplace=True)\n",
    "#df_golf.drop([\"DRVE_TOTAL\"],axis=1,inplace=True)\n",
    "#df_golf.drop([\"ROUNDS\",\"EVENTS\"],axis=1,inplace=True)\n",
    "sns.heatmap(df_golf.corr(), cmap=\"coolwarm\",vmin=-1, vmax=1)\n",
    "plt.show()\n",
    "plt.savefig(\"correlation.png\")"
   ]
  },
  {
   "cell_type": "code",
   "execution_count": 307,
   "id": "bulgarian-recipient",
   "metadata": {},
   "outputs": [],
   "source": [
    "#standard scaling features for Lasso and Ridge regression.\n",
    "std = StandardScaler()\n",
    "std.fit(X_train.values)\n",
    "X_tr = std.transform(X_train.values)\n",
    "X_vl = std.transform(X_val.values)\n",
    "X_te = std.transform(X_test.values)"
   ]
  },
  {
   "cell_type": "code",
   "execution_count": 309,
   "id": "dress-homework",
   "metadata": {},
   "outputs": [
    {
     "data": {
      "text/plain": [
       "(array([ 12.,  52., 138., 207., 288., 225., 122.,  48.,  26.,   4.]),\n",
       " array([-2.76908378, -2.15961072, -1.55013767, -0.94066461, -0.33119156,\n",
       "         0.2782815 ,  0.88775456,  1.49722761,  2.10670067,  2.71617372,\n",
       "         3.32564678]),\n",
       " <BarContainer object of 10 artists>)"
      ]
     },
     "execution_count": 309,
     "metadata": {},
     "output_type": "execute_result"
    },
    {
     "data": {
      "image/png": "[encoded data removed]",
      "text/plain": [
       "<Figure size 432x288 with 1 Axes>"
      ]
     },
     "metadata": {},
     "output_type": "display_data"
    }
   ],
   "source": [
    "plt.hist(X_tr[:,3])"
   ]
  },
  {
   "cell_type": "code",
   "execution_count": 299,
   "id": "canadian-conjunction",
   "metadata": {},
   "outputs": [
    {
     "data": {
      "text/plain": [
       "[('AGE', -0.0),\n",
       " ('YEAR', -206394.49925538962),\n",
       " ('CUTS_MADE', 344925.8745469456),\n",
       " ('YDS_DRIVE', 554588.0937264551),\n",
       " ('DRIVING_ACC', 240102.17516353136),\n",
       " ('GREENS_IN_REG', 187996.73836463466),\n",
       " ('PUTT_AVG', -499272.9194558564),\n",
       " ('SAVE_PCT', 206950.23213802502)]"
      ]
     },
     "execution_count": 299,
     "metadata": {},
     "output_type": "execute_result"
    }
   ],
   "source": [
    "lasso_model = Lasso(alpha = 10000)\n",
    "lasso_model.fit(X_tr,y_train)\n",
    "list(zip(X_train.columns, lasso_model.coef_))"
   ]
  },
  {
   "cell_type": "code",
   "execution_count": 300,
   "id": "acquired-triple",
   "metadata": {},
   "outputs": [
    {
     "data": {
      "text/plain": [
       "LassoCV(cv=5)"
      ]
     },
     "execution_count": 300,
     "metadata": {},
     "output_type": "execute_result"
    }
   ],
   "source": [
    "lasso_model = LassoCV(cv=5)\n",
    "lasso_model.fit(X_tr, y_train)"
   ]
  },
  {
   "cell_type": "code",
   "execution_count": 301,
   "id": "waiting-mixture",
   "metadata": {},
   "outputs": [
    {
     "data": {
      "text/plain": [
       "0.49920993230330046"
      ]
     },
     "execution_count": 301,
     "metadata": {},
     "output_type": "execute_result"
    }
   ],
   "source": [
    "train_set_pred = lasso_model.predict(X_tr)\n",
    "r2_score(y_train, train_set_pred)"
   ]
  },
  {
   "cell_type": "code",
   "execution_count": 302,
   "id": "reasonable-court",
   "metadata": {},
   "outputs": [
    {
     "data": {
      "text/plain": [
       "5247.928713932862"
      ]
     },
     "execution_count": 302,
     "metadata": {},
     "output_type": "execute_result"
    }
   ],
   "source": [
    "lasso_model.alpha_"
   ]
  },
  {
   "cell_type": "code",
   "execution_count": 303,
   "id": "amino-shadow",
   "metadata": {},
   "outputs": [
    {
     "data": {
      "text/plain": [
       "[('AGE', -2374.5903021618665),\n",
       " ('YEAR', -220029.73004871554),\n",
       " ('CUTS_MADE', 340665.22015824966),\n",
       " ('YDS_DRIVE', 569488.8134654093),\n",
       " ('DRIVING_ACC', 253294.9712473053),\n",
       " ('GREENS_IN_REG', 190923.5447293592),\n",
       " ('PUTT_AVG', -505635.81685879536),\n",
       " ('SAVE_PCT', 213574.00995497336)]"
      ]
     },
     "execution_count": 303,
     "metadata": {},
     "output_type": "execute_result"
    }
   ],
   "source": [
    "list(zip(X_train.columns, lasso_model.coef_))"
   ]
  },
  {
   "cell_type": "code",
   "execution_count": 311,
   "id": "detailed-updating",
   "metadata": {},
   "outputs": [
    {
     "data": {
      "text/plain": [
       "0.44911755966768685"
      ]
     },
     "execution_count": 311,
     "metadata": {},
     "output_type": "execute_result"
    }
   ],
   "source": [
    "val_set_pred = lasso_model.predict(X_vl)\n",
    "r2_score(y_val, val_set_pred)"
   ]
  },
  {
   "cell_type": "code",
   "execution_count": 313,
   "id": "personal-yield",
   "metadata": {},
   "outputs": [
    {
     "data": {
      "text/plain": [
       "0.45786786573130667"
      ]
     },
     "execution_count": 313,
     "metadata": {},
     "output_type": "execute_result"
    }
   ],
   "source": [
    "test_set_pred = lasso_model.predict(X_te)\n",
    "r2_score(y_test, test_set_pred)"
   ]
  },
  {
   "cell_type": "code",
   "execution_count": 319,
   "id": "round-planet",
   "metadata": {},
   "outputs": [
    {
     "data": {
      "text/plain": [
       "[('AGE', -12077.606844431722),\n",
       " ('YEAR', -237501.71211051344),\n",
       " ('CUTS_MADE', 335216.05977854907),\n",
       " ('YDS_DRIVE', 582637.7042048816),\n",
       " ('DRIVING_ACC', 267197.0213362867),\n",
       " ('GREENS_IN_REG', 194788.65784345943),\n",
       " ('PUTT_AVG', -511652.07801550836),\n",
       " ('SAVE_PCT', 220720.2461519473)]"
      ]
     },
     "execution_count": 319,
     "metadata": {},
     "output_type": "execute_result"
    }
   ],
   "source": [
    "lr_model_ridge = Ridge(alpha = 1)\n",
    "lr_model_ridge.fit(X_tr, y_train)\n",
    "lr_model_ridge.score(X_tr,y_train)\n",
    "\n",
    "list(zip(X_train.columns, lr_model_ridge.coef_))"
   ]
  },
  {
   "cell_type": "code",
   "execution_count": 320,
   "id": "infectious-creator",
   "metadata": {},
   "outputs": [
    {
     "data": {
      "text/plain": [
       "0.49938397248991395"
      ]
     },
     "execution_count": 320,
     "metadata": {},
     "output_type": "execute_result"
    }
   ],
   "source": [
    "lr_model_ridge.score(X_tr,y_train)"
   ]
  },
  {
   "cell_type": "code",
   "execution_count": 317,
   "id": "driving-drama",
   "metadata": {},
   "outputs": [
    {
     "data": {
      "text/plain": [
       "0.4462491072512593"
      ]
     },
     "execution_count": 317,
     "metadata": {},
     "output_type": "execute_result"
    }
   ],
   "source": [
    "rval_set_pred = lr_model_ridge.predict(X_vl)\n",
    "r2_score(y_val,rval_set_pred)"
   ]
  },
  {
   "cell_type": "code",
   "execution_count": 322,
   "id": "interracial-writing",
   "metadata": {},
   "outputs": [
    {
     "data": {
      "text/plain": [
       "0.4562556695475629"
      ]
     },
     "execution_count": 322,
     "metadata": {},
     "output_type": "execute_result"
    }
   ],
   "source": [
    "rtest_set_pred = lr_model_ridge.predict(X_te)\n",
    "r2_score(y_test,rtest_set_pred)"
   ]
  },
  {
   "cell_type": "code",
   "execution_count": 208,
   "id": "beautiful-illustration",
   "metadata": {},
   "outputs": [],
   "source": [
    "#still not much improvements on R^2 from original linear regression. Let's try a polynomial of degree 2"
   ]
  },
  {
   "cell_type": "code",
   "execution_count": 326,
   "id": "experienced-hughes",
   "metadata": {},
   "outputs": [
    {
     "data": {
      "text/plain": [
       "Pipeline(steps=[('polynomialfeatures', PolynomialFeatures()),\n",
       "                ('linearregression', LinearRegression())])"
      ]
     },
     "execution_count": 326,
     "metadata": {},
     "output_type": "execute_result"
    }
   ],
   "source": [
    "est = make_pipeline(PolynomialFeatures(2), LinearRegression())\n",
    "est.fit(X_tr,y_train)"
   ]
  },
  {
   "cell_type": "code",
   "execution_count": 328,
   "id": "miniature-desktop",
   "metadata": {},
   "outputs": [
    {
     "data": {
      "text/plain": [
       "0.6601102257253233"
      ]
     },
     "execution_count": 328,
     "metadata": {},
     "output_type": "execute_result"
    }
   ],
   "source": [
    "poly2_train_set_pred = est.predict(X_tr)\n",
    "r2_score(y_train, poly2_train_set_pred)"
   ]
  },
  {
   "cell_type": "code",
   "execution_count": 329,
   "id": "cathedral-tonight",
   "metadata": {},
   "outputs": [
    {
     "data": {
      "text/plain": [
       "0.5644107351482295"
      ]
     },
     "execution_count": 329,
     "metadata": {},
     "output_type": "execute_result"
    }
   ],
   "source": [
    "poly2_val_set_pred = est.predict(X_vl)\n",
    "r2_score(y_val, poly2_val_set_pred)"
   ]
  },
  {
   "cell_type": "code",
   "execution_count": 330,
   "id": "referenced-champion",
   "metadata": {},
   "outputs": [
    {
     "data": {
      "text/plain": [
       "0.5506742108440162"
      ]
     },
     "execution_count": 330,
     "metadata": {},
     "output_type": "execute_result"
    }
   ],
   "source": [
    "poly2_test_set_pred = est.predict(X_te)\n",
    "r2_score(y_test, poly2_test_set_pred)"
   ]
  },
  {
   "cell_type": "code",
   "execution_count": 331,
   "id": "british-mechanism",
   "metadata": {},
   "outputs": [
    {
     "data": {
      "text/plain": [
       "<AxesSubplot:ylabel='EARNINGS'>"
      ]
     },
     "execution_count": 331,
     "metadata": {},
     "output_type": "execute_result"
    },
    {
     "data": {
      "image/png": "[encoded data removed]",
      "text/plain": [
       "<Figure size 432x288 with 1 Axes>"
      ]
     },
     "metadata": {},
     "output_type": "display_data"
    }
   ],
   "source": [
    "sns.regplot(x=poly2_test_set_pred,y=y_test)"
   ]
  },
  {
   "cell_type": "code",
   "execution_count": 336,
   "id": "leading-hampshire",
   "metadata": {},
   "outputs": [
    {
     "data": {
      "text/plain": [
       "['1',\n",
       " 'x0',\n",
       " 'x1',\n",
       " 'x2',\n",
       " 'x3',\n",
       " 'x4',\n",
       " 'x5',\n",
       " 'x6',\n",
       " 'x7',\n",
       " 'x0^2',\n",
       " 'x0 x1',\n",
       " 'x0 x2',\n",
       " 'x0 x3',\n",
       " 'x0 x4',\n",
       " 'x0 x5',\n",
       " 'x0 x6',\n",
       " 'x0 x7',\n",
       " 'x1^2',\n",
       " 'x1 x2',\n",
       " 'x1 x3',\n",
       " 'x1 x4',\n",
       " 'x1 x5',\n",
       " 'x1 x6',\n",
       " 'x1 x7',\n",
       " 'x2^2',\n",
       " 'x2 x3',\n",
       " 'x2 x4',\n",
       " 'x2 x5',\n",
       " 'x2 x6',\n",
       " 'x2 x7',\n",
       " 'x3^2',\n",
       " 'x3 x4',\n",
       " 'x3 x5',\n",
       " 'x3 x6',\n",
       " 'x3 x7',\n",
       " 'x4^2',\n",
       " 'x4 x5',\n",
       " 'x4 x6',\n",
       " 'x4 x7',\n",
       " 'x5^2',\n",
       " 'x5 x6',\n",
       " 'x5 x7',\n",
       " 'x6^2',\n",
       " 'x6 x7',\n",
       " 'x7^2']"
      ]
     },
     "execution_count": 336,
     "metadata": {},
     "output_type": "execute_result"
    }
   ],
   "source": [
    "poly.get_feature_names()"
   ]
  },
  {
   "cell_type": "code",
   "execution_count": 337,
   "id": "fresh-index",
   "metadata": {},
   "outputs": [
    {
     "data": {
      "text/plain": [
       "array([ 4.76712583e+00, -5.20250653e+06,  3.46854895e+05, -1.80175341e+07,\n",
       "        7.38639754e+06,  6.77770455e+06,  3.59978539e+07, -5.10788084e+09,\n",
       "        2.18131550e+06, -2.83177472e+02,  2.60926767e+03,  3.07606744e+02,\n",
       "       -1.53011319e+02,  1.28290004e+03,  1.22357778e+03, -5.90094627e+04,\n",
       "       -8.69816291e+02, -6.53580366e+02,  8.66574442e+03, -3.35995649e+03,\n",
       "       -3.73969802e+03, -1.67390229e+04,  2.45149392e+06, -7.60976639e+02,\n",
       "        1.27535163e+03,  7.52161523e+02,  1.47002003e+03, -5.25045165e+03,\n",
       "        3.15419316e+05,  1.55489849e+03,  1.46394341e+03,  3.42352127e+03,\n",
       "        5.30103909e+03, -1.15153202e+06,  1.28222253e+03,  1.55190574e+03,\n",
       "        6.20507844e+03, -5.39371480e+05,  1.99026200e+03,  4.79792139e+03,\n",
       "       -2.70365485e+06,  1.12942108e+03,  2.05948188e+08, -7.14836397e+05,\n",
       "        9.29991506e+02])"
      ]
     },
     "execution_count": 337,
     "metadata": {},
     "output_type": "execute_result"
    }
   ],
   "source": [
    "#R^2 has increased nicely,however regression formula is overly complex and the gap between train data and validate \n",
    "#implies overfitting. Hopefully Lasso can simply and fix some of the overfitting.\n",
    "lr_poly.coef_"
   ]
  },
  {
   "cell_type": "code",
   "execution_count": 352,
   "id": "promising-egyptian",
   "metadata": {},
   "outputs": [
    {
     "data": {
      "text/plain": [
       "0.5402881110447216"
      ]
     },
     "execution_count": 352,
     "metadata": {},
     "output_type": "execute_result"
    }
   ],
   "source": [
    "poly = PolynomialFeatures(degree=2)\n",
    "X_poly = poly.fit_transform(X_train)\n",
    "X_poly_scaled = scaler.fit_transform(X_poly)\n",
    "lasso = LassoCV(max_iter=100000)\n",
    "lasso.fit(X_poly_scaled,y_train)\n",
    "\n",
    "#Apply the same polynomial and scaling transformations to test set, then score\n",
    "X_test_poly = poly.transform(X_test)\n",
    "X_test_poly_scaled = scaler.transform(X_test_poly)\n",
    "lasso.score(X_test_poly_scaled, y_test)"
   ]
  },
  {
   "cell_type": "code",
   "execution_count": 342,
   "id": "polish-consent",
   "metadata": {},
   "outputs": [
    {
     "data": {
      "text/plain": [
       "[('1', 0.0),\n",
       " ('AGE', -24118.095191504075),\n",
       " ('YEAR', -0.0),\n",
       " ('CUTS_MADE', 687510.1028245967),\n",
       " ('YDS_DRIVE', 1257419.4955835303),\n",
       " ('DRIVING_ACC', -0.0),\n",
       " ('GREENS_IN_REG', 71551.27432535241),\n",
       " ('PUTT_AVG', -488597.3119546865),\n",
       " ('SAVE_PCT', 0.0),\n",
       " ('AGE^2', -228981.97203470027),\n",
       " ('AGE YEAR', -0.0),\n",
       " ('AGE CUTS_MADE', -172558.07214222653),\n",
       " ('AGE YDS_DRIVE', -138558.6363120987),\n",
       " ('AGE DRIVING_ACC', -3166.337387274875),\n",
       " ('AGE GREENS_IN_REG', 730607.3889110619),\n",
       " ('AGE PUTT_AVG', 0.0),\n",
       " ('AGE SAVE_PCT', -291693.6685416527),\n",
       " ('YEAR^2', -180536.81168716977),\n",
       " ('YEAR CUTS_MADE', 0.0),\n",
       " ('YEAR YDS_DRIVE', 0.0),\n",
       " ('YEAR DRIVING_ACC', -0.0),\n",
       " ('YEAR GREENS_IN_REG', 0.0),\n",
       " ('YEAR PUTT_AVG', -280017.1659124598),\n",
       " ('YEAR SAVE_PCT', 0.0),\n",
       " ('CUTS_MADE^2', 127740.38483552002),\n",
       " ('CUTS_MADE YDS_DRIVE', 2598009.8191340812),\n",
       " ('CUTS_MADE DRIVING_ACC', 235730.4159502201),\n",
       " ('CUTS_MADE GREENS_IN_REG', 1607676.0503334806),\n",
       " ('CUTS_MADE PUTT_AVG', -5167791.886922713),\n",
       " ('CUTS_MADE SAVE_PCT', 799984.5886742014),\n",
       " ('YDS_DRIVE^2', 1830071.1440202286),\n",
       " ('YDS_DRIVE DRIVING_ACC', 125310.0745039801),\n",
       " ('YDS_DRIVE GREENS_IN_REG', 731626.8509938698),\n",
       " ('YDS_DRIVE PUTT_AVG', -3688416.053578794),\n",
       " ('YDS_DRIVE SAVE_PCT', 837978.5601371404),\n",
       " ('DRIVING_ACC^2', -15142.229178120057),\n",
       " ('DRIVING_ACC GREENS_IN_REG', 7066.882009855701),\n",
       " ('DRIVING_ACC PUTT_AVG', -0.0),\n",
       " ('DRIVING_ACC SAVE_PCT', 0.0),\n",
       " ('GREENS_IN_REG^2', 860720.481312849),\n",
       " ('GREENS_IN_REG PUTT_AVG', -1807985.9217314054),\n",
       " ('GREENS_IN_REG SAVE_PCT', 213265.34864960576),\n",
       " ('PUTT_AVG^2', 2944011.8144143894),\n",
       " ('PUTT_AVG SAVE_PCT', -1729387.6739334753),\n",
       " ('SAVE_PCT^2', 848044.192982676)]"
      ]
     },
     "execution_count": 342,
     "metadata": {},
     "output_type": "execute_result"
    }
   ],
   "source": [
    "list(zip(poly.get_feature_names(['AGE','YEAR','CUTS_MADE','YDS_DRIVE','DRIVING_ACC', 'GREENS_IN_REG', 'PUTT_AVG', 'SAVE_PCT']),lasso.coef_))\n",
    "\n",
    "#list(zip(X_train.columns, lr_model_ridge.coef_))"
   ]
  },
  {
   "cell_type": "code",
   "execution_count": 365,
   "id": "comparative-characterization",
   "metadata": {},
   "outputs": [
    {
     "data": {
      "image/png": "[encoded data removed]",
      "text/plain": [
       "<Figure size 576x504 with 1 Axes>"
      ]
     },
     "metadata": {},
     "output_type": "display_data"
    }
   ],
   "source": [
    "preds = lasso.predict(X_test_poly_scaled) \n",
    "plt.figure(figsize=(8, 7))\n",
    "sns.set(style=\"darkgrid\")\n",
    "sns.set(font_scale=1.3)\n",
    "plt.title(\"Observed vs.Predicted Earnings\")\n",
    "plt.xlabel('Predicted Earnings')\n",
    "sns.regplot(x=preds,y=y_test)\n",
    "plt.xlim([0, 6000000])\n",
    "plt.ylim([0, 13000000])\n",
    "plt.ylabel('Observed Earnings')\n",
    "sns.despine()\n",
    "plt.savefig(\"observed_vs_predicted_test_final.png\")"
   ]
  },
  {
   "cell_type": "code",
   "execution_count": 360,
   "id": "moved-sunset",
   "metadata": {},
   "outputs": [
    {
     "data": {
      "image/png": "[encoded data removed]",
      "text/plain": [
       "<Figure size 2160x720 with 1 Axes>"
      ]
     },
     "metadata": {},
     "output_type": "display_data"
    }
   ],
   "source": [
    "plt.figure(figsize=(30,10))\n",
    "plt.rc('xtick', labelsize=14)\n",
    "plt.bar(X_train.columns, lasso_model.coef_)\n",
    "plt.savefig(\"Feature_Plot_Lasso.png\")"
   ]
  },
  {
   "cell_type": "code",
   "execution_count": null,
   "id": "peaceful-large",
   "metadata": {},
   "outputs": [],
   "source": []
  }
 ],
 "metadata": {
  "kernelspec": {
   "display_name": "Python [conda env:metis] *",
   "language": "python",
   "name": "conda-env-metis-py"
  },
  "language_info": {
   "codemirror_mode": {
    "name": "ipython",
    "version": 3
   },
   "file_extension": ".py",
   "mimetype": "text/x-python",
   "name": "python",
   "nbconvert_exporter": "python",
   "pygments_lexer": "ipython3",
   "version": "3.8.8"
  }
 },
 "nbformat": 4,
 "nbformat_minor": 5
}
